{
 "cells": [
  {
   "cell_type": "code",
   "execution_count": null,
   "metadata": {},
   "outputs": [],
   "source": [
    "# # 1.22 <= numpy 버전 < 1.24\n",
    "\n",
    "# ## ffmpeg 환경변수 설정 꼭 확인!\n",
    "\n",
    "# !pip install ffmpeg\n",
    "# !pip install ffmpeg-python\n",
    "# !pip show ffmpeg-python\n",
    "# !pip install -U ffmpeg-python\n",
    "# !pip install cython\n",
    "# # # spleeter 오류시 시도해볼 것.\n",
    "# !pip install spleeter\n",
    "\n",
    "# !pip install -U spleeter\n",
    "# !pip install IPython\n",
    "# !pip install --upgrade ipython jupyter\n",
    "# !pip install moviepy\n",
    "# !pip install pydub\n",
    "# !pip install librosa\n",
    "# # # anaconda에서 설치\n",
    "# conda install -c conda-forge pydub\n",
    "# !conda install -c conda-forge spleeter"
   ]
  },
  {
   "cell_type": "code",
   "execution_count": null,
   "metadata": {},
   "outputs": [],
   "source": [
    "# 위 코드중에 뭐는 실행하고 뭐 실행하면 안되더라??? 관우님한테 물어보기"
   ]
  }
 ],
 "metadata": {
  "language_info": {
   "name": "python"
  }
 },
 "nbformat": 4,
 "nbformat_minor": 2
}
